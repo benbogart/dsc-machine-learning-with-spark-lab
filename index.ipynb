{
 "cells": [
  {
   "cell_type": "markdown",
   "metadata": {},
   "source": [
    "## Machine Learning with Spark - Lab\n",
    "\n",
    "## Introduction\n",
    "\n",
    "In the previous lesson, you saw how to manipulate data with Spark DataFrames as well as create machine learning models. In this lab, you're going to practice loading data, manipulating it, and fitting it in the Spark framework. Afterward, you're going to make use of different visualizations to see if you can get any insights from the model. This dataset is from a Taiwanese financial company, and the task is to determine which individuals are going to default on their credit card based off of characteristics such as limit balance, past payment history, age, marriage status, and sex. Let's get started!\n",
    "\n",
    "### Objectives\n",
    "\n",
    "In this lab you will: \n",
    "\n",
    "- Load and manipulate data using Spark DataFrames \n",
    "- Create a Spark ML pipeline that transforms data and runs over a grid of hyperparameters "
   ]
  },
  {
   "cell_type": "markdown",
   "metadata": {},
   "source": [
    "To begin with create a SparkSession and import the `'credit_card_default.csv'` file  into a PySpark DataFrame. "
   ]
  },
  {
   "cell_type": "code",
   "execution_count": 1,
   "metadata": {},
   "outputs": [],
   "source": [
    "#sc.stop()"
   ]
  },
  {
   "cell_type": "code",
   "execution_count": 2,
   "metadata": {},
   "outputs": [],
   "source": [
    "# import necessary libraries\n",
    "from pyspark import SparkContext\n",
    "from pyspark.sql import SparkSession\n",
    "# initialize Spark Session\n",
    "sc = SparkContext('local[*]')\n",
    "spark = SparkSession(sc)\n",
    "# read in csv to a spark dataframe\n",
    "spark_df = spark.read.csv('credit_card_default.csv', header=True, inferSchema=True)"
   ]
  },
  {
   "cell_type": "markdown",
   "metadata": {},
   "source": [
    "Check the datatypes to ensure that all columns are the datatype you expect."
   ]
  },
  {
   "cell_type": "code",
   "execution_count": 3,
   "metadata": {},
   "outputs": [
    {
     "data": {
      "text/plain": [
       "Row(ID=2, LIMIT_BAL=120000.0, SEX='Female', EDUCATION='College', MARRIAGE='Single', AGE=26, PAY_0=-1, PAY_2=2, PAY_3=0, PAY_4=0, PAY_5=0, PAY_6=2, BILL_AMT1=2682.0, BILL_AMT2=1725.0, BILL_AMT3=2682.0, BILL_AMT4=3272.0, BILL_AMT5=3455.0, BILL_AMT6=3261.0, PAY_AMT1=0.0, PAY_AMT2=1000.0, PAY_AMT3=1000.0, PAY_AMT4=1000.0, PAY_AMT5=0.0, PAY_AMT6=2000.0, default=1)"
      ]
     },
     "execution_count": 3,
     "metadata": {},
     "output_type": "execute_result"
    }
   ],
   "source": [
    "spark_df.head()"
   ]
  },
  {
   "cell_type": "code",
   "execution_count": 4,
   "metadata": {},
   "outputs": [
    {
     "data": {
      "text/plain": [
       "[('ID', 'int'),\n",
       " ('LIMIT_BAL', 'double'),\n",
       " ('SEX', 'string'),\n",
       " ('EDUCATION', 'string'),\n",
       " ('MARRIAGE', 'string'),\n",
       " ('AGE', 'int'),\n",
       " ('PAY_0', 'int'),\n",
       " ('PAY_2', 'int'),\n",
       " ('PAY_3', 'int'),\n",
       " ('PAY_4', 'int'),\n",
       " ('PAY_5', 'int'),\n",
       " ('PAY_6', 'int'),\n",
       " ('BILL_AMT1', 'double'),\n",
       " ('BILL_AMT2', 'double'),\n",
       " ('BILL_AMT3', 'double'),\n",
       " ('BILL_AMT4', 'double'),\n",
       " ('BILL_AMT5', 'double'),\n",
       " ('BILL_AMT6', 'double'),\n",
       " ('PAY_AMT1', 'double'),\n",
       " ('PAY_AMT2', 'double'),\n",
       " ('PAY_AMT3', 'double'),\n",
       " ('PAY_AMT4', 'double'),\n",
       " ('PAY_AMT5', 'double'),\n",
       " ('PAY_AMT6', 'double'),\n",
       " ('default', 'int')]"
      ]
     },
     "execution_count": 4,
     "metadata": {},
     "output_type": "execute_result"
    }
   ],
   "source": [
    "spark_df.dtypes"
   ]
  },
  {
   "cell_type": "markdown",
   "metadata": {},
   "source": [
    "Check to see how many missing values are in the dataset. This will require using the `.filter()` , `.isNull()`, and `.count()` methods."
   ]
  },
  {
   "cell_type": "code",
   "execution_count": 6,
   "metadata": {},
   "outputs": [
    {
     "name": "stdout",
     "output_type": "stream",
     "text": [
      "ID 0\n",
      "LIMIT_BAL 0\n",
      "SEX 0\n",
      "EDUCATION 0\n",
      "MARRIAGE 0\n",
      "AGE 0\n",
      "PAY_0 0\n",
      "PAY_2 0\n",
      "PAY_3 0\n",
      "PAY_4 0\n",
      "PAY_5 0\n",
      "PAY_6 0\n",
      "BILL_AMT1 0\n",
      "BILL_AMT2 0\n",
      "BILL_AMT3 0\n",
      "BILL_AMT4 0\n",
      "BILL_AMT5 0\n",
      "BILL_AMT6 0\n",
      "PAY_AMT1 0\n",
      "PAY_AMT2 0\n",
      "PAY_AMT3 0\n",
      "PAY_AMT4 0\n",
      "PAY_AMT5 0\n",
      "PAY_AMT6 0\n",
      "default 0\n"
     ]
    }
   ],
   "source": [
    "for col in spark_df.columns:\n",
    "    # your code here\n",
    "    print(col, spark_df.filter(spark_df[col].isNull()).count())"
   ]
  },
  {
   "cell_type": "code",
   "execution_count": 7,
   "metadata": {},
   "outputs": [
    {
     "name": "stdout",
     "output_type": "stream",
     "text": [
      "ID 0\n",
      "LIMIT_BAL 0\n",
      "SEX 0\n",
      "EDUCATION 0\n",
      "MARRIAGE 0\n",
      "AGE 0\n",
      "PAY_0 0\n",
      "PAY_2 0\n",
      "PAY_3 0\n",
      "PAY_4 0\n",
      "PAY_5 0\n",
      "PAY_6 0\n",
      "BILL_AMT1 0\n",
      "BILL_AMT2 0\n",
      "BILL_AMT3 0\n",
      "BILL_AMT4 0\n",
      "BILL_AMT5 0\n",
      "BILL_AMT6 0\n",
      "PAY_AMT1 0\n",
      "PAY_AMT2 0\n",
      "PAY_AMT3 0\n",
      "PAY_AMT4 0\n",
      "PAY_AMT5 0\n",
      "PAY_AMT6 0\n",
      "default 0\n"
     ]
    }
   ],
   "source": [
    "# this is much faster\n",
    "for col in spark_df.columns:\n",
    "    # your code here\n",
    "    print(col, spark_df.select(col).filter(spark_df[col].isNull()).count())"
   ]
  },
  {
   "cell_type": "markdown",
   "metadata": {},
   "source": [
    "Now, determine how many categories there are in each of the categorical columns."
   ]
  },
  {
   "cell_type": "code",
   "execution_count": 8,
   "metadata": {},
   "outputs": [
    {
     "data": {
      "text/plain": [
       "[Row(SEX='Female'), Row(SEX='Male')]"
      ]
     },
     "execution_count": 8,
     "metadata": {},
     "output_type": "execute_result"
    }
   ],
   "source": [
    "spark_df.select('SEX').distinct().collect()"
   ]
  },
  {
   "cell_type": "code",
   "execution_count": 9,
   "metadata": {},
   "outputs": [
    {
     "name": "stdout",
     "output_type": "stream",
     "text": [
      "Distinct values in SEX: [Row(SEX='Female'), Row(SEX='Male')]\n",
      "Distinct values in EDUCATION: [Row(EDUCATION='High School'), Row(EDUCATION='0'), Row(EDUCATION='5'), Row(EDUCATION='6'), Row(EDUCATION='Other'), Row(EDUCATION='Graduate'), Row(EDUCATION='College')]\n",
      "Distinct values in MARRIAGE: [Row(MARRIAGE='0'), Row(MARRIAGE='Other'), Row(MARRIAGE='Married'), Row(MARRIAGE='Single')]\n"
     ]
    }
   ],
   "source": [
    "for column, data_type in spark_df.dtypes:\n",
    "   # your code here\n",
    "    if data_type == 'string':\n",
    "        print(f'Distinct values in {column}:',\n",
    "              spark_df.select(column).distinct().collect())"
   ]
  },
  {
   "cell_type": "markdown",
   "metadata": {},
   "source": [
    "Interesting... it looks like we have some extraneous values in each of our categories. Let's look at some visualizations of each of these to determine just how many of them there are. Create bar plots of the variables `'EDUCATION'` and `'MARRIAGE'` to see how many of the undefined values there are. After doing so, come up with a strategy for accounting for the extra values."
   ]
  },
  {
   "cell_type": "code",
   "execution_count": 10,
   "metadata": {},
   "outputs": [
    {
     "data": {
      "text/plain": [
       "[Row(EDUCATION='High School', count=4917),\n",
       " Row(EDUCATION='0', count=14),\n",
       " Row(EDUCATION='5', count=280),\n",
       " Row(EDUCATION='6', count=51),\n",
       " Row(EDUCATION='Other', count=123),\n",
       " Row(EDUCATION='Graduate', count=10585),\n",
       " Row(EDUCATION='College', count=14029)]"
      ]
     },
     "execution_count": 10,
     "metadata": {},
     "output_type": "execute_result"
    }
   ],
   "source": [
    "spark_df.select('EDUCATION').groupBy('EDUCATION').count().collect()"
   ]
  },
  {
   "cell_type": "code",
   "execution_count": 11,
   "metadata": {},
   "outputs": [
    {
     "data": {
      "text/plain": [
       "<BarContainer object of 7 artists>"
      ]
     },
     "execution_count": 11,
     "metadata": {},
     "output_type": "execute_result"
    },
    {
     "data": {
      "image/png": "[encoded data removed]",
      "text/plain": [
       "<Figure size 432x288 with 1 Axes>"
      ]
     },
     "metadata": {
      "needs_background": "light"
     },
     "output_type": "display_data"
    }
   ],
   "source": [
    "import seaborn as sns\n",
    "import matplotlib.pyplot as plt\n",
    "%matplotlib inline\n",
    "\n",
    "\n",
    "## plotting the categories for education\n",
    "counts = spark_df.select('EDUCATION').groupBy('EDUCATION').count().collect()\n",
    "x = [x['EDUCATION'] for x in counts]\n",
    "y = [x['count'] for x in counts]\n",
    "\n",
    "plt.bar(x, y)"
   ]
  },
  {
   "cell_type": "code",
   "execution_count": 12,
   "metadata": {},
   "outputs": [
    {
     "data": {
      "text/plain": [
       "<BarContainer object of 4 artists>"
      ]
     },
     "execution_count": 12,
     "metadata": {},
     "output_type": "execute_result"
    },
    {
     "data": {
      "image/png": "[encoded data removed]",
      "text/plain": [
       "<Figure size 432x288 with 1 Axes>"
      ]
     },
     "metadata": {
      "needs_background": "light"
     },
     "output_type": "display_data"
    }
   ],
   "source": [
    "## plotting the categories for marriage\n",
    "\n",
    "counts = spark_df.select('MARRIAGE').groupBy('MARRIAGE').count().collect()\n",
    "\n",
    "x = [x['MARRIAGE'] for x in counts]\n",
    "y = [x['count'] for x in counts]\n",
    "\n",
    "plt.bar(x,y)"
   ]
  },
  {
   "cell_type": "markdown",
   "metadata": {},
   "source": [
    "It looks like there are barely any of the 0 and 5 categories. We can go ahead and throw them into the \"Other\" category since it's already operating as a catchall here. Similarly, the category \"0\" looks small, so let's throw it in with the \"Other\" values. You can do this by using a method called `.when()` from PySpark in conjunction with `.withColumn()` and `.otherwise()`.  "
   ]
  },
  {
   "cell_type": "code",
   "execution_count": 13,
   "metadata": {},
   "outputs": [],
   "source": [
    "from pyspark.sql.functions import when\n",
    "\n",
    "## changing the values in the education column\n",
    "spark_df_2 = spark_df.withColumn('EDUCATION',\n",
    "                    when(spark_df.EDUCATION == '0', 'Other')\\\n",
    "                    .when(spark_df.EDUCATION == '5', 'Other')\\\n",
    "                    .when(spark_df.EDUCATION == '6', 'Other')\\\n",
    "                    .otherwise(spark_df['EDUCATION']))"
   ]
  },
  {
   "cell_type": "code",
   "execution_count": 14,
   "metadata": {},
   "outputs": [],
   "source": [
    "from pyspark.sql.functions import when\n",
    "\n",
    "## changing the values in the education column\n",
    "spark_df2 = spark_df.withColumn('EDUCATION',\n",
    "                                    when(spark_df.EDUCATION == 0, 'Other')\\\n",
    "                                    .when(spark_df.EDUCATION == 5, 'Other')\\\n",
    "                                    .when(spark_df.EDUCATION == 6, 'Other')\\\n",
    "                                    .otherwise(spark_df['EDUCATION'])\n",
    "                                    )\n",
    "\n",
    "## changing the values in the marriage column\n",
    "\n",
    "spark_df_done = spark_df2.withColumn('MARRIAGE',\n",
    "                                    when(spark_df2.MARRIAGE == 0, 'Other')\\\n",
    "                                    .otherwise(spark_df2['MARRIAGE']))"
   ]
  },
  {
   "cell_type": "code",
   "execution_count": 15,
   "metadata": {},
   "outputs": [
    {
     "data": {
      "text/plain": [
       "Row(ID=2, LIMIT_BAL=120000.0, SEX='Female', EDUCATION='College', MARRIAGE='Single', AGE=26, PAY_0=-1, PAY_2=2, PAY_3=0, PAY_4=0, PAY_5=0, PAY_6=2, BILL_AMT1=2682.0, BILL_AMT2=1725.0, BILL_AMT3=2682.0, BILL_AMT4=3272.0, BILL_AMT5=3455.0, BILL_AMT6=3261.0, PAY_AMT1=0.0, PAY_AMT2=1000.0, PAY_AMT3=1000.0, PAY_AMT4=1000.0, PAY_AMT5=0.0, PAY_AMT6=2000.0, default=1)"
      ]
     },
     "execution_count": 15,
     "metadata": {},
     "output_type": "execute_result"
    }
   ],
   "source": [
    "spark_df_done.head()"
   ]
  },
  {
   "cell_type": "markdown",
   "metadata": {},
   "source": [
    "Now let's take a look at all the values contained in the categorical columns of the DataFrame: "
   ]
  },
  {
   "cell_type": "code",
   "execution_count": 16,
   "metadata": {},
   "outputs": [
    {
     "name": "stdout",
     "output_type": "stream",
     "text": [
      "Feature SEX has: [Row(SEX='Female'), Row(SEX='Male')]\n",
      "Feature EDUCATION has: [Row(EDUCATION='High School'), Row(EDUCATION='Other'), Row(EDUCATION='Graduate'), Row(EDUCATION='College')]\n",
      "Feature MARRIAGE has: [Row(MARRIAGE='Other'), Row(MARRIAGE='Married'), Row(MARRIAGE='Single')]\n"
     ]
    }
   ],
   "source": [
    "for column, data_type in spark_df_done.dtypes:\n",
    "    # your code here\n",
    "    if data_type == 'string':\n",
    "        print (f'Feature {column} has:', spark_df_done.select(column).distinct().collect())"
   ]
  },
  {
   "cell_type": "markdown",
   "metadata": {},
   "source": [
    "Much better. Now, let's do a little more investigation into our target variable before diving into the machine learning aspect of this project."
   ]
  },
  {
   "cell_type": "markdown",
   "metadata": {},
   "source": [
    "##  EDA\n",
    "\n",
    "Let's first look at the overall distribution of class balance of the default and not default labels. Create a barplot to compare the number of defaults vs. non-defaults. This will require using `.groupBy()` as well as an aggregation method."
   ]
  },
  {
   "cell_type": "code",
   "execution_count": 17,
   "metadata": {},
   "outputs": [],
   "source": [
    "counts = spark_df_done.groupBy('Default').count().collect()"
   ]
  },
  {
   "cell_type": "code",
   "execution_count": 18,
   "metadata": {},
   "outputs": [
    {
     "data": {
      "text/plain": [
       "([<matplotlib.axis.XTick at 0x7fa086e44a60>,\n",
       "  <matplotlib.axis.XTick at 0x7fa086e44a30>],\n",
       " [Text(0, 0, 'No Default'), Text(1, 0, 'Default')])"
      ]
     },
     "execution_count": 18,
     "metadata": {},
     "output_type": "execute_result"
    },
    {
     "data": {
      "image/png": "[encoded data removed]",
      "text/plain": [
       "<Figure size 432x288 with 1 Axes>"
      ]
     },
     "metadata": {
      "needs_background": "light"
     },
     "output_type": "display_data"
    }
   ],
   "source": [
    "x = [x['Default'] for x in counts]\n",
    "y = [x['count'] for x in counts]\n",
    "sns.barplot(x=x, y=y)\n",
    "\n",
    "plt.ylabel('Number of defaults')\n",
    "plt.xticks([0,1], ['No Default', 'Default'])"
   ]
  },
  {
   "cell_type": "markdown",
   "metadata": {},
   "source": [
    "Let's also visualize the difference in default rate between males and females in this dataset."
   ]
  },
  {
   "cell_type": "code",
   "execution_count": 19,
   "metadata": {},
   "outputs": [
    {
     "data": {
      "text/plain": [
       "[Row(Default=1, SEX='Female', count=3762),\n",
       " Row(Default=0, SEX='Male', count=9015),\n",
       " Row(Default=1, SEX='Male', count=2873),\n",
       " Row(Default=0, SEX='Female', count=14349)]"
      ]
     },
     "execution_count": 19,
     "metadata": {},
     "output_type": "execute_result"
    }
   ],
   "source": [
    "# perform a groupby for default and sex\n",
    "counts = spark_df_done.groupBy(['Default', 'SEX']).count().collect()\n",
    "counts"
   ]
  },
  {
   "cell_type": "code",
   "execution_count": 20,
   "metadata": {},
   "outputs": [
    {
     "data": {
      "text/plain": [
       "<AxesSubplot:xlabel='1', ylabel='2'>"
      ]
     },
     "execution_count": 20,
     "metadata": {},
     "output_type": "execute_result"
    },
    {
     "data": {
      "image/png": "[encoded data removed]",
      "text/plain": [
       "<Figure size 432x288 with 1 Axes>"
      ]
     },
     "metadata": {
      "needs_background": "light"
     },
     "output_type": "display_data"
    }
   ],
   "source": [
    "# make barplot for female and male default v no default rate\n",
    "import pandas as pd\n",
    "#pd.DataFrame(counts)\n",
    "\n",
    "sns.barplot(x=1, y=2, hue=0, data=pd.DataFrame(counts))"
   ]
  },
  {
   "cell_type": "code",
   "execution_count": 21,
   "metadata": {},
   "outputs": [
    {
     "data": {
      "text/plain": [
       "Text(0.5, 1.0, 'Female Default Counts')"
      ]
     },
     "execution_count": 21,
     "metadata": {},
     "output_type": "execute_result"
    },
    {
     "data": {
      "image/png": "[encoded data removed]",
      "text/plain": [
       "<Figure size 720x288 with 2 Axes>"
      ]
     },
     "metadata": {
      "needs_background": "light"
     },
     "output_type": "display_data"
    }
   ],
   "source": [
    "# replot as separate charts\n",
    "fig, (ax1, ax2) = plt.subplots(1, 2, figsize=(10,4))\n",
    "\n",
    "male_x = [x['Default'] for x in counts if x['SEX'] == 'Male']\n",
    "male_y = [x['count'] for x in counts if x['SEX'] == 'Male']\n",
    "female_x = [x['Default'] for x in counts if x['SEX'] == 'Female']\n",
    "female_y = [x['count'] for x in counts if x['SEX'] == 'Female']\n",
    "\n",
    "sns.barplot(x=male_x, y=male_y, ax=ax1)\n",
    "ax1.set_title('Male Default Counts')\n",
    "sns.barplot(x=female_x, y=female_y, ax=ax2)\n",
    "ax2.set_title('Female Default Counts')"
   ]
  },
  {
   "cell_type": "markdown",
   "metadata": {},
   "source": [
    "It looks like males have an ever so slightly higher default rate than females."
   ]
  },
  {
   "cell_type": "markdown",
   "metadata": {},
   "source": [
    "## Onto the Machine Learning!"
   ]
  },
  {
   "cell_type": "markdown",
   "metadata": {},
   "source": [
    "Now, it's time to fit the data to the PySpark machine learning model pipeline. You will need:\n",
    "\n",
    "* 3 StringIndexers (for each categorical feature)\n",
    "* A OneHotEncoderEstimator (to encode the newly indexed strings into categorical variables)\n",
    "* A VectorAssembler (to combine all features into one SparseVector)\n",
    "\n",
    "All of these initialized estimators should be stored in a list."
   ]
  },
  {
   "cell_type": "code",
   "execution_count": 22,
   "metadata": {},
   "outputs": [
    {
     "name": "stdout",
     "output_type": "stream",
     "text": [
      "['ID', 'LIMIT_BAL', 'SEX', 'EDUCATION', 'MARRIAGE', 'AGE', 'PAY_0', 'PAY_2', 'PAY_3', 'PAY_4', 'PAY_5', 'PAY_6', 'BILL_AMT1', 'BILL_AMT2', 'BILL_AMT3', 'BILL_AMT4', 'BILL_AMT5', 'BILL_AMT6', 'PAY_AMT1', 'PAY_AMT2', 'PAY_AMT3', 'PAY_AMT4', 'PAY_AMT5', 'PAY_AMT6', 'default']\n"
     ]
    }
   ],
   "source": [
    "print(spark_df.columns)"
   ]
  },
  {
   "cell_type": "code",
   "execution_count": 23,
   "metadata": {},
   "outputs": [
    {
     "name": "stdout",
     "output_type": "stream",
     "text": [
      "there are 23\n"
     ]
    }
   ],
   "source": [
    "# importing the necessary modules\n",
    "from pyspark.ml.feature import StringIndexer, OneHotEncoder, VectorAssembler\n",
    "from pyspark.ml import Pipeline\n",
    "\n",
    "# creating the string indexers\n",
    "sex_stringi = StringIndexer(inputCol='SEX', outputCol='SEX_num', handleInvalid='keep')\n",
    "marraige_stringi = StringIndexer(inputCol='MARRIAGE', outputCol='MARRIAGE_num', handleInvalid='keep')\n",
    "education_stringi = StringIndexer(inputCol='EDUCATION', outputCol='EDUCATION_num', handleInvalid='keep')\n",
    "\n",
    "\n",
    "ohe = OneHotEncoder(inputCols=['SEX_num', 'EDUCATION_num', 'MARRIAGE_num'], \n",
    "                    outputCols=['SEX_vec', 'EDUCATION_vec', 'MARRIAGE_vec'], dropLast=True)\n",
    "\n",
    "\n",
    "# features to be included in the model \n",
    "features = ['LIMIT_BAL', 'AGE', 'PAY_0', 'PAY_2', 'PAY_3', 'PAY_4', 'PAY_5', 'PAY_6', \n",
    "            'BILL_AMT1', 'BILL_AMT2', 'BILL_AMT3', 'BILL_AMT4', 'BILL_AMT5', 'BILL_AMT6', \n",
    "            'PAY_AMT1', 'PAY_AMT2', 'PAY_AMT3', 'PAY_AMT4', 'PAY_AMT5', 'PAY_AMT6']\n",
    "\n",
    "# adding the categorical features\n",
    "features += ['SEX_vec', 'EDUCATION_vec', 'MARRIAGE_vec']\n",
    "\n",
    "print(f'there are {len(features)}')\n",
    "# putting all of the features into a single vector\n",
    "va = VectorAssembler(inputCols=features, outputCol='features')\n",
    "\n",
    "stages = [sex_stringi, marraige_stringi, education_stringi, ohe, va]\n",
    "\n",
    "\n"
   ]
  },
  {
   "cell_type": "markdown",
   "metadata": {},
   "source": [
    "Alright! Now let's see if that worked. Let's investigate how it transforms your dataset. Put all of the stages in a Pipeline and fit it to your data. Look at the features column. Did you obtain the number of features you expected?"
   ]
  },
  {
   "cell_type": "code",
   "execution_count": 24,
   "metadata": {},
   "outputs": [
    {
     "data": {
      "text/plain": [
       "Row(features=SparseVector(29, {0: 120000.0, 1: 26.0, 2: -1.0, 3: 2.0, 7: 2.0, 8: 2682.0, 9: 1725.0, 10: 2682.0, 11: 3272.0, 12: 3455.0, 13: 3261.0, 15: 1000.0, 16: 1000.0, 17: 1000.0, 19: 2000.0, 20: 1.0, 22: 1.0, 26: 1.0}))"
      ]
     },
     "execution_count": 24,
     "metadata": {},
     "output_type": "execute_result"
    }
   ],
   "source": [
    "from pyspark.ml.pipeline import Pipeline\n",
    "pipe = Pipeline(stages=stages)\n",
    "\n",
    "df_tx = pipe.fit(spark_df_done).transform(spark_df_done)\n",
    "df_tx.select('features').head()\n",
    "\n",
    "# 17 numerical features and 6 categorical ones (the argument dropLast = True makes us have Sex, 3 Edu variables and 2 marriage)"
   ]
  },
  {
   "cell_type": "code",
   "execution_count": 25,
   "metadata": {},
   "outputs": [
    {
     "data": {
      "text/plain": [
       "Row(features=SparseVector(23, {0: 120000.0, 1: 26.0, 2: -1.0, 3: 2.0, 7: 2.0, 8: 2682.0, 9: 1725.0, 10: 2682.0, 11: 3272.0, 12: 3455.0, 13: 3261.0, 14: 1.0, 18: 1.0, 20: 1.0}))"
      ]
     },
     "execution_count": 25,
     "metadata": {},
     "output_type": "execute_result"
    }
   ],
   "source": [
    "stages = []\n",
    "indexers = []\n",
    "\n",
    "# creating the string indexers\n",
    "for col in ['EDUCATION','SEX','MARRIAGE']:\n",
    "    indexers.append(StringIndexer(inputCol =col,outputCol=col+'_',handleInvalid='keep'))\n",
    "    \n",
    "input_columns = [indexer.getOutputCol() for indexer in indexers]\n",
    "\n",
    "one_hot_encoder = OneHotEncoder(inputCols=input_columns,outputCols=[col + 'ohe' for col in input_columns],dropLast=True)\n",
    "\n",
    "\n",
    "# features to be included in the model \n",
    "features = ['LIMIT_BAL','AGE','PAY_0','PAY_2','PAY_3',\n",
    "            'PAY_4','PAY_5','PAY_6', 'BILL_AMT1','BILL_AMT2',\n",
    "            'BILL_AMT3','BILL_AMT4','BILL_AMT5','BILL_AMT6']\n",
    "\n",
    "# adding the categorical features\n",
    "features.extend(one_hot_encoder.getOutputCols())\n",
    "\n",
    "# putting all of the features into a single vector\n",
    "vector_assember = VectorAssembler(inputCols= features , outputCol='features')\n",
    "\n",
    "stages.extend(indexers)\n",
    "stages.extend([one_hot_encoder,vector_assember])\n",
    "pipe = Pipeline(stages=stages)\n",
    "data_transformer = pipe.fit(spark_df_done)\n",
    "transformed_data = data_transformer.transform(spark_df_done)\n",
    "p = transformed_data.select('features')\n",
    "p.head()"
   ]
  },
  {
   "cell_type": "markdown",
   "metadata": {},
   "source": [
    "## Fitting Machine Learning Models\n",
    "That looks good! Now let's go ahead and fit data to different machine learning models. To evaluate these models, you should use the `BinaryClassificationEvaluator`. Below is an import of all the classes and libraries you'll need in the remainder of this lab."
   ]
  },
  {
   "cell_type": "code",
   "execution_count": null,
   "metadata": {},
   "outputs": [],
   "source": []
  },
  {
   "cell_type": "code",
   "execution_count": null,
   "metadata": {},
   "outputs": [],
   "source": []
  },
  {
   "cell_type": "code",
   "execution_count": 26,
   "metadata": {},
   "outputs": [],
   "source": [
    "from pyspark.ml.classification import GBTClassifier, DecisionTreeClassifier, LogisticRegression, RandomForestClassifier\n",
    "from pyspark.ml.tuning import ParamGridBuilder, CrossValidator, TrainValidationSplit\n",
    "from pyspark.ml.evaluation import BinaryClassificationEvaluator\n",
    "import numpy as np"
   ]
  },
  {
   "cell_type": "markdown",
   "metadata": {},
   "source": [
    "### Logistic Regression\n",
    "\n",
    "First, we'll try with a simple Logistic Regression Model:\n",
    "\n",
    "* instantiate a logistic regression model\n",
    "* add it to the stages list\n",
    "* instantiate a new Pipeline estimator (not fit) with all of the stages\n",
    "* instantiate an `BinaryClassificationEvaluator`\n",
    "* create parameters to gridsearch through using `ParamGridBuilder`\n",
    "* Instantiate and fit a `CrossValidator` "
   ]
  },
  {
   "cell_type": "code",
   "execution_count": 27,
   "metadata": {},
   "outputs": [],
   "source": [
    "# your code here\n",
    "logreg = LogisticRegression(featuresCol='features', labelCol='default')"
   ]
  },
  {
   "cell_type": "code",
   "execution_count": 28,
   "metadata": {},
   "outputs": [],
   "source": [
    "stages.append(logreg)\n",
    "\n",
    "bce = BinaryClassificationEvaluator(labelCol='default')\n",
    "\n",
    "\n",
    "logreg_pipe = Pipeline(stages=stages)\n",
    "\n",
    "\n",
    "params = ParamGridBuilder()\\\n",
    ".addGrid(logreg.regParam, [0, 0.2, 0.8])\\\n",
    ".addGrid(logreg.standardization, [True, False])\\\n",
    ".build()\n",
    "\n",
    "cv = CrossValidator(estimator=logreg_pipe, estimatorParamMaps=params, evaluator=bce)"
   ]
  },
  {
   "cell_type": "code",
   "execution_count": 29,
   "metadata": {},
   "outputs": [],
   "source": [
    "model = cv.fit(spark_df_done)"
   ]
  },
  {
   "cell_type": "markdown",
   "metadata": {},
   "source": [
    "Determine how well your model performed by looking at the evaluator metrics. If you tried multiple parameters, which performed best?"
   ]
  },
  {
   "cell_type": "code",
   "execution_count": 34,
   "metadata": {},
   "outputs": [
    {
     "name": "stdout",
     "output_type": "stream",
     "text": [
      "Best Score: 0.7175663827361789\n",
      "Best params: {Param(parent='LogisticRegression_f995da771b14', name='regParam', doc='regularization parameter (>= 0).'): 0.0, Param(parent='LogisticRegression_f995da771b14', name='standardization', doc='whether to standardize the training features before fitting the model.'): True}\n"
     ]
    }
   ],
   "source": [
    "# print out the AUC of your best model as well as the parameters of your best model\n",
    "best_idx = np.argmax(model.avgMetrics)\n",
    "print('Best Score:', model.avgMetrics[best_idx])\n",
    "print('Best params:', params[best_idx])"
   ]
  },
  {
   "cell_type": "markdown",
   "metadata": {},
   "source": [
    "#### Now try this again with other classifiers. Try and create a function that will allow you to easily test different models with different parameters. This function is optional, but it should allow for your code to be far more D.R.Y. The function should return the fitted cross-validated model as well as print out the performance metrics of the best performing model and the best parameters."
   ]
  },
  {
   "cell_type": "code",
   "execution_count": 35,
   "metadata": {},
   "outputs": [],
   "source": [
    "# create function to cross validate models with different parameters\n",
    "\n",
    "def test_model(evaluator, params):\n",
    "    stages = [sex_stringi, marraige_stringi, education_stringi, ohe, va]\n",
    "    stages.append(evaluator)\n",
    "    bce = BinaryClassificationEvaluator(labelCol='default')\n",
    "    pipe = Pipeline(stages=stages)\n",
    "    cv = CrossValidator(estimator=pipe, estimatorParamMaps=params, evaluator=bce, parallelism=2)\n",
    "    model = cv.fit(spark_df_done)\n",
    "    best_idx = np.argmax(model.avgMetrics)\n",
    "    print('Best Score:', model.avgMetrics[best_idx])\n",
    "    print('Best params:', params[best_idx])\n",
    "    \n",
    "    return model"
   ]
  },
  {
   "cell_type": "markdown",
   "metadata": {},
   "source": [
    "Train a Random Forest classifier and determine the best performing model with the best parameters. This might take a while! Be smart about how you use parallelization here."
   ]
  },
  {
   "cell_type": "code",
   "execution_count": 40,
   "metadata": {},
   "outputs": [
    {
     "name": "stdout",
     "output_type": "stream",
     "text": [
      "Best Score: 0.7764352255779499\n",
      "Best params: {Param(parent='RandomForestClassifier_14b5aa8e5574', name='maxDepth', doc='Maximum depth of the tree. (>= 0) E.g., depth 0 means 1 leaf node; depth 1 means 1 internal node + 2 leaf nodes.'): 10, Param(parent='RandomForestClassifier_14b5aa8e5574', name='numTrees', doc='Number of trees to train (>= 1).'): 50}\n"
     ]
    }
   ],
   "source": [
    "# code to train Random Forest Classifier\n",
    "# ⏰ This cell may take a long time to run\n",
    "\n",
    "\n",
    "rf = RandomForestClassifier(featuresCol='features', labelCol='default')\n",
    "\n",
    "param_grid = ParamGridBuilder().addGrid(rf.maxDepth, [5, 10, 15])\\\n",
    "                               .addGrid(rf.numTrees, [20, 50])\\\n",
    "                               .build()\n",
    "\n",
    "rf_model = test_model(rf, param_grid)\n"
   ]
  },
  {
   "cell_type": "markdown",
   "metadata": {},
   "source": [
    "Now train a Gradient Boosting Classifier. **This might take a very long time depending on the number of parameters you are training**"
   ]
  },
  {
   "cell_type": "code",
   "execution_count": 39,
   "metadata": {},
   "outputs": [
    {
     "name": "stdout",
     "output_type": "stream",
     "text": [
      "Best Score: 0.7424660311691056\n",
      "Best params: {Param(parent='GBTClassifier_f48b7936c3b4', name='stepSize', doc='Step size (a.k.a. learning rate) in interval (0, 1] for shrinking the contribution of each estimator.'): 0.1, Param(parent='GBTClassifier_f48b7936c3b4', name='maxDepth', doc='Maximum depth of the tree. (>= 0) E.g., depth 0 means 1 leaf node; depth 1 means 1 internal node + 2 leaf nodes.'): 10}\n"
     ]
    },
    {
     "data": {
      "text/plain": [
       "CrossValidatorModel_fb5efc289136"
      ]
     },
     "execution_count": 39,
     "metadata": {},
     "output_type": "execute_result"
    }
   ],
   "source": [
    "# code to train Gradient Boosting Classifier\n",
    "# ⏰ This cell may take a long time to run\n",
    "gb = GBTClassifier(featuresCol='features', labelCol='default')\n",
    "\n",
    "param_grid = ParamGridBuilder().addGrid(gb.stepSize, [0.1, 0.2])\\\n",
    "                               .addGrid(gb.maxDepth, [10, 20])\\\n",
    "                               .build()\n",
    "\n",
    "test_model(gb, param_grid)"
   ]
  },
  {
   "cell_type": "markdown",
   "metadata": {},
   "source": [
    "It looks like the optimal performing model is the Random Forest Classifier Model because it has the highest AUC!\n",
    "\n",
    "## Level Up (Optional)\n",
    "\n",
    "* Create ROC curves for each of these models\n",
    "* Try the multi-layer perceptron classifier algorithm. You will soon learn about what this means in the neural network section!"
   ]
  },
  {
   "cell_type": "code",
   "execution_count": 51,
   "metadata": {},
   "outputs": [],
   "source": [
    "from pyspark.mllib.evaluation import BinaryClassificationMetrics\n"
   ]
  },
  {
   "cell_type": "code",
   "execution_count": 50,
   "metadata": {},
   "outputs": [
    {
     "ename": "AttributeError",
     "evalue": "'CrossValidatorModel' object has no attribute 'summary'",
     "output_type": "error",
     "traceback": [
      "\u001b[0;31m\u001b[0m",
      "\u001b[0;31mAttributeError\u001b[0mTraceback (most recent call last)",
      "\u001b[0;32m<ipython-input-50-5d12c4901dd6>\u001b[0m in \u001b[0;36m<module>\u001b[0;34m\u001b[0m\n\u001b[0;32m----> 1\u001b[0;31m \u001b[0mrf_model\u001b[0m\u001b[0;34m.\u001b[0m\u001b[0msummary\u001b[0m\u001b[0;34m\u001b[0m\u001b[0;34m\u001b[0m\u001b[0m\n\u001b[0m\u001b[1;32m      2\u001b[0m \u001b[0;34m\u001b[0m\u001b[0m\n\u001b[1;32m      3\u001b[0m \u001b[0;31m#.summary.roc.select('FPR').collect()\u001b[0m\u001b[0;34m\u001b[0m\u001b[0;34m\u001b[0m\u001b[0;34m\u001b[0m\u001b[0m\n",
      "\u001b[0;31mAttributeError\u001b[0m: 'CrossValidatorModel' object has no attribute 'summary'"
     ]
    }
   ],
   "source": [
    "rf_model.summary\n",
    "BinaryClassificationMetrics()\n",
    "#.summary.roc.select('FPR').collect()\n"
   ]
  },
  {
   "cell_type": "markdown",
   "metadata": {},
   "source": [
    "## Summary\n",
    "\n",
    "If you've made it thus far, congratulations! Spark is an in-demand skill, but it is not particularly easy to master. In this lesson, you fit multiple different machine learning pipelines for a classification problem. If you want to take your Spark skills to the next level, connect to a distributed cluster using a service like AWS or Databricks and perform these Spark operations on the cloud."
   ]
  }
 ],
 "metadata": {
  "kernelspec": {
   "display_name": "Python 3",
   "language": "python",
   "name": "python3"
  },
  "language_info": {
   "codemirror_mode": {
    "name": "ipython",
    "version": 3
   },
   "file_extension": ".py",
   "mimetype": "text/x-python",
   "name": "python",
   "nbconvert_exporter": "python",
   "pygments_lexer": "ipython3",
   "version": "3.8.6"
  }
 },
 "nbformat": 4,
 "nbformat_minor": 2
}
